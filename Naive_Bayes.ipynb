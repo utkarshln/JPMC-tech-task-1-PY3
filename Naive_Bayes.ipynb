{
  "nbformat": 4,
  "nbformat_minor": 0,
  "metadata": {
    "colab": {
      "name": "Naive Bayes",
      "provenance": [],
      "collapsed_sections": [],
      "authorship_tag": "ABX9TyPbfhFFs6vLcG/SaWDF8wRi",
      "include_colab_link": true
    },
    "kernelspec": {
      "name": "python3",
      "display_name": "Python 3"
    }
  },
  "cells": [
    {
      "cell_type": "markdown",
      "metadata": {
        "id": "view-in-github",
        "colab_type": "text"
      },
      "source": [
        "<a href=\"https://colab.research.google.com/github/utkarshln/JPMC-tech-task-1-PY3/blob/master/Naive_Bayes.ipynb\" target=\"_parent\"><img src=\"https://colab.research.google.com/assets/colab-badge.svg\" alt=\"Open In Colab\"/></a>"
      ]
    },
    {
      "cell_type": "code",
      "metadata": {
        "colab": {
          "base_uri": "https://localhost:8080/"
        },
        "id": "1y_llkk--D7i",
        "outputId": "0622a83e-39cc-497e-9e7f-9fdeb0649029"
      },
      "source": [
        "# load the iris dataset \r\n",
        "from sklearn.datasets import load_iris \r\n",
        "iris = load_iris() \r\n",
        "\r\n",
        "# store the feature matrix (X) and response vector (y) \r\n",
        "X = iris.data \r\n",
        "y = iris.target \r\n",
        "\r\n",
        "# splitting X and y into training and testing sets \r\n",
        "from sklearn.model_selection import train_test_split \r\n",
        "X_train, X_test, y_train, y_test = train_test_split(X, y, test_size=0.4, random_state=1) \r\n",
        "\r\n",
        "# training the model on training set \r\n",
        "from sklearn.naive_bayes import GaussianNB \r\n",
        "gnb = GaussianNB() \r\n",
        "gnb.fit(X_train, y_train) \r\n",
        "\r\n",
        "# making predictions on the testing set \r\n",
        "y_pred = gnb.predict(X_test) \r\n",
        "\r\n",
        "# comparing actual response values (y_test) with predicted response values (y_pred) \r\n",
        "from sklearn import metrics \r\n",
        "print(\"Gaussian Naive Bayes model accuracy(in %):\", metrics.accuracy_score(y_test, y_pred)*100)\r\n"
      ],
      "execution_count": 1,
      "outputs": [
        {
          "output_type": "stream",
          "text": [
            "Gaussian Naive Bayes model accuracy(in %): 95.0\n"
          ],
          "name": "stdout"
        }
      ]
    }
  ]
}